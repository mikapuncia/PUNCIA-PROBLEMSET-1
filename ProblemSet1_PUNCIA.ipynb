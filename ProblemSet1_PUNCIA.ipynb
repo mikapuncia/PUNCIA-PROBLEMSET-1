{
 "cells": [
  {
   "cell_type": "markdown",
   "metadata": {},
   "source": [
    "# **Problem Set: Cournot vs. Bertrand Competition in Python**\n",
    "*Objective: This problem set will strengthen your understanding of Python fundamentals while applying economic competition models. You will work with data types, functions, loops, classes, file handling, and GitHub collaboration.*\n",
    "\n",
    "---\n",
    "\n",
    "## **Background: Cournot vs. Bertrand Competition**\n",
    "\n",
    "In **Cournot competition**, firms **simultaneously choose output quantities**, assuming their competitor’s quantity is fixed. The **market price** is determined by total quantity supplied.\n",
    "\n",
    "In **Bertrand competition**, firms **simultaneously choose prices**, assuming the competitor’s price is fixed. The firm with the **lower price** captures the market.\n",
    "\n",
    "You will implement **both models** in Python using **classes and subclasses** while incorporating additional computational tools.\n",
    "\n",
    "---"
   ]
  },
  {
   "cell_type": "markdown",
   "metadata": {},
   "source": [
    "## **Part 1: Assigning Variables and Identifying Data Types**  \n",
    "\n",
    "**Instructions:**  \n",
    "1. Create **five** different variables relevant to market competition:\n",
    "   - A firm's **marginal cost** (float).\n",
    "   - A firm's **market demand** (integer).\n",
    "   - The **market price** (float).\n",
    "   - A boolean indicating whether the firm is a **monopoly**.\n",
    "   - A list of **competitor prices** (floats).\n",
    "2. Use Python's `type()` function to **print the data type** of each variable.\n",
    "\n",
    "---"
   ]
  },
  {
   "cell_type": "code",
   "execution_count": 2,
   "metadata": {},
   "outputs": [],
   "source": [
    "# Variables that will be relevant to a market competition model\n",
    "\n",
    "marginal_cost = 45.5  \n",
    "market_demand = 200  \n",
    "price = 50.5 \n",
    "monopoly = True   \n",
    "competitor_prices = [60.5, 68.5, 70.5] "
   ]
  },
  {
   "cell_type": "code",
   "execution_count": 5,
   "metadata": {},
   "outputs": [
    {
     "name": "stdout",
     "output_type": "stream",
     "text": [
      "Type of marginal_cost: <class 'float'>\n",
      "Type of market_demand: <class 'int'>\n",
      "Type of price: <class 'float'>\n",
      "Type of monopoly: <class 'bool'>\n",
      "Type of competitor_prices: <class 'list'>\n"
     ]
    }
   ],
   "source": [
    "# Print the data type\n",
    "\n",
    "print(\"Type of marginal_cost:\", type(marginal_cost))\n",
    "print(\"Type of market_demand:\", type(market_demand))\n",
    "print(\"Type of price:\", type(price))\n",
    "print(\"Type of monopoly:\", type(monopoly))\n",
    "print(\"Type of competitor_prices:\", type(competitor_prices))"
   ]
  },
  {
   "cell_type": "markdown",
   "metadata": {},
   "source": [
    "## **Part 2: Defining and Calling Functions**  \n",
    "\n",
    "**Instructions:**  \n",
    "1. Define a function `profit()` that:\n",
    "   - Takes **three arguments**: `price`, `quantity`, and `marginal_cost`.\n",
    "   - Returns **profit** using the formula:\n",
    "     $ \\pi =(P−MC) \\times Q $ \n",
    "   - Raises a **ValueError** if:\n",
    "     - The price is **lower** than marginal cost.\n",
    "     - The quantity is **negative**.\n",
    "2. Call the function using different values and **print the results**.\n",
    "\n",
    "---"
   ]
  },
  {
   "cell_type": "code",
   "execution_count": 8,
   "metadata": {},
   "outputs": [],
   "source": [
    "def profit(price, quantity, marginal_cost):\n",
    "    \n",
    "    if price < marginal_cost: \n",
    "        raise ValueError(\"Price must be greater than or equal to marginal cost\") \n",
    "    if quantity < 0: \n",
    "        raise ValueError(\"Quantity cannot be negative\")\n",
    "\n",
    "    profit = (price - marginal_cost) * quantity \n",
    "    return profit\n"
   ]
  },
  {
   "cell_type": "code",
   "execution_count": 13,
   "metadata": {},
   "outputs": [
    {
     "name": "stdout",
     "output_type": "stream",
     "text": [
      "Profit: 5000.0\n",
      "Error: Price must be greater than or equal to marginal cost\n",
      "Error: Quantity cannot be negative\n"
     ]
    }
   ],
   "source": [
    "try:\n",
    "    print(\"Profit:\", profit(20.0, 1000, 15.0))  \n",
    "    print(\"Profit:\", profit(10.0, 500, 15.0)) \n",
    "except ValueError as e:\n",
    "    print(\"Error:\", e) \n",
    "\n",
    "try:\n",
    "    print(\"Profit:\", profit(25.0, -100, 10.0))  # Negative Quantity (Error)\n",
    "except ValueError as e:\n",
    "    print(\"Error:\", e)  "
   ]
  },
  {
   "cell_type": "markdown",
   "metadata": {},
   "source": [
    "## **Part 3: Creating a Cournot Firm Class**  \n",
    "\n",
    "**Instructions:**  \n",
    "1. Create a class `CournotFirm` that:\n",
    "   - Has attributes: `marginal_cost`, `market_demand`, `competitor_quantity`.\n",
    "   - Defines a method `best_response()` that:\n",
    "     - Computes the **firm’s best quantity response** in Cournot competition, using:\n",
    "       $q^* = \\frac{(A - MC) - Q_c}{2}$       \n",
    "       where:\n",
    "       - $ A $ is market demand intercept.\n",
    "       - $ MC $ is the firm’s marginal cost.\n",
    "       - $ Q_c $ is the competitor’s quantity.\n",
    "2. Create an instance and **compute the firm’s optimal quantity**.\n",
    "\n",
    "---"
   ]
  },
  {
   "cell_type": "code",
   "execution_count": 17,
   "metadata": {},
   "outputs": [],
   "source": [
    "class CournotFirm:\n",
    "    def __init__(self, marginal_cost, market_demand, competitor_quantity):\n",
    "        \"\"\"\n",
    "        Parameters:\n",
    "        marginal_cost (float): The cost to produce one additional unit of production.\n",
    "        market_demand (int): The total quantity of a product that consumers are willing to purchase. \n",
    "        competitor_quantity (int): The number of competitors in the market.\n",
    "        \"\"\"\n",
    "\n",
    "        self.marginal_cost = marginal_cost\n",
    "        self.market_demand = market_demand\n",
    "        self.competitor_quantity = competitor_quantity \n",
    "\n",
    "    def best_response(self):\n",
    "        \"\"\"\n",
    "        Calculate the firm's best response quantity given the market demand,\n",
    "        marginal cost, and competitor quantity.\n",
    "\n",
    "        Returns:\n",
    "        float: The best response quantity for the firm.\n",
    "        \"\"\"\n",
    "        return ((self.market_demand - self.marginal_cost) - self.competitor_quantity ) / 2\n",
    "        "
   ]
  },
  {
   "cell_type": "code",
   "execution_count": 21,
   "metadata": {},
   "outputs": [
    {
     "name": "stdout",
     "output_type": "stream",
     "text": [
      "Best Response Quantity: 25.0\n",
      "Best Response Quantity: 45.0\n"
     ]
    }
   ],
   "source": [
    "firm1 = CournotFirm(marginal_cost=20, market_demand=100, competitor_quantity=30)\n",
    "print(\"Best Response Quantity:\", firm1.best_response())  \n",
    "\n",
    "firm2 = CournotFirm(marginal_cost=10, market_demand=150, competitor_quantity=50)\n",
    "print(\"Best Response Quantity:\", firm2.best_response()) "
   ]
  },
  {
   "cell_type": "markdown",
   "metadata": {},
   "source": [
    "## **Part 4: Simulating Bertrand Price Competition with Loops**  \n",
    "\n",
    "**Instructions:**  \n",
    "1. Create a subclass `BertrandFirm`, which **inherits from `CournotFirm`** but instead **chooses price instead of quantity**.\n",
    "2. Modify the `best_response()` method so that in **Bertrand competition**, the firm **keeps lowering its price until it reaches marginal cost**, following the rule:\n",
    "   $P^* = P_c - \\epsilon$\n",
    "   where $\\epsilon $ is a small value.\n",
    "3. Use a `while` loop to **simulate repeated price reductions** until **equilibrium is reached**.\n",
    "4. Create an instance of `BertrandFirm` and **compute the firm’s optimal price**.\n",
    "\n",
    "---"
   ]
  },
  {
   "cell_type": "code",
   "execution_count": 28,
   "metadata": {},
   "outputs": [],
   "source": [
    "class BertrandFirm(CournotFirm):\n",
    "    def __init__(self, marginal_cost, market_demand, competitor_price, epsilon=0.01):\n",
    "        \"\"\"\n",
    "        Parameters:\n",
    "        marginal_cost (float): The cost to produce one additional unit of production.\n",
    "        market_demand (int): The total quantity of a product that consumers are willing to purchase.\n",
    "        competitor_price (float): The price set by the competitor.\n",
    "        epsilon (float): A small value for price reduction steps.\n",
    "        \"\"\"\n",
    "        super().__init__(marginal_cost, market_demand, competitor_quantity=0)  # Competitor quantity is not relevant here\n",
    "        self.competitor_price = competitor_price  # Correctly storing competitor price\n",
    "        self.epsilon = epsilon\n",
    "\n",
    "    def best_response(self):\n",
    "        \"\"\"\n",
    "        Calculate the firm's best response price given the marginal cost and competitor price.\n",
    "\n",
    "        Returns:\n",
    "        float: The best response price for the firm.\n",
    "        \"\"\"\n",
    "        optimal_price = self.market_demand  # Start with the market demand intercept as the initial price\n",
    "\n",
    "        while optimal_price > self.marginal_cost:\n",
    "            if optimal_price > self.competitor_price:  # Only undercut if competitor price is higher\n",
    "                optimal_price -= self.epsilon\n",
    "            else:\n",
    "                break\n",
    "\n",
    "        return max(optimal_price, self.marginal_cost)  # Prevent price from dropping below cost\n"
   ]
  },
  {
   "cell_type": "code",
   "execution_count": 30,
   "metadata": {},
   "outputs": [
    {
     "name": "stdout",
     "output_type": "stream",
     "text": [
      "Optimal Price: 49.999999999984375\n"
     ]
    }
   ],
   "source": [
    "firm = BertrandFirm(marginal_cost=20, market_demand=100, competitor_price=50)\n",
    "print(\"Optimal Price:\", firm.best_response())"
   ]
  },
  {
   "cell_type": "markdown",
   "metadata": {},
   "source": [
    "## **Part 5: Storing and Analyzing Market Competition Data**  \n",
    "\n",
    "**Instructions:**  \n",
    "1. Store information about **multiple firms** in a dictionary:"
   ]
  },
  {
   "cell_type": "code",
   "execution_count": null,
   "metadata": {},
   "outputs": [],
   "source": [
    "firms = {\n",
    "       \"Firm A\": {\"marginal_cost\": 10, \"price\": 20},\n",
    "       \"Firm B\": {\"marginal_cost\": 12, \"price\": 22}\n",
    "   }"
   ]
  },
  {
   "cell_type": "markdown",
   "metadata": {},
   "source": [
    "2. Modify each firm’s equilibrium price using the Bertrand model.\n",
    "3. Store all **unique equilibrium prices** in a sequence that ensures **no duplicates**."
   ]
  },
  {
   "cell_type": "code",
   "execution_count": 33,
   "metadata": {},
   "outputs": [
    {
     "name": "stdout",
     "output_type": "stream",
     "text": [
      "Updated firms data: {'Firm A': {'marginal_cost': 15, 'price': 49.999999999984375}, 'Firm B': {'marginal_cost': 120, 'price': 120}}\n",
      "Unique equilibrium prices: {120, 49.999999999984375}\n"
     ]
    }
   ],
   "source": [
    "firms_data = {\n",
    "    \"Firm A\": {\"marginal_cost\": 15, \"price\": 50},\n",
    "    \"Firm B\": {\"marginal_cost\": 120, \"price\": 25}\n",
    "}\n",
    "\n",
    "equilibrium_prices = set()\n",
    "\n",
    "for firm_name, data in firms_data.items():\n",
    "    firm = BertrandFirm(data[\"marginal_cost\"], 100, data[\"price\"])\n",
    "    optimal_price = firm.best_response()\n",
    "    equilibrium_prices.add(optimal_price)\n",
    "    # Update the firm's price in the dictionary\n",
    "    firms_data[firm_name][\"price\"] = optimal_price\n",
    "\n",
    "print(\"Updated firms data:\", firms_data)\n",
    "print(\"Unique equilibrium prices:\", equilibrium_prices)"
   ]
  },
  {
   "cell_type": "markdown",
   "metadata": {},
   "source": [
    "## **Part 6: Reading and Writing Market Data to a File**  \n",
    "\n",
    "**Instructions:**  \n",
    "1. Write a function `save_results()` that:\n",
    "   - Takes a dictionary of firm data.\n",
    "   - Saves the data into a `.csv` file where each row represents a firm.\n",
    "   - Uses the **Pandas library** to write the file.\n",
    "   \n",
    "2. Write a function `load_results()` that:\n",
    "   - Reads the `.csv` file into a **Pandas DataFrame**.\n",
    "   - Prints the loaded data.\n",
    "\n",
    "3. Test the functions:\n",
    "   - Save firm data from Part 5 into a CSV file (`\"market_results.csv\"`).\n",
    "   - Load and print the results from the file."
   ]
  },
  {
   "cell_type": "code",
   "execution_count": 36,
   "metadata": {},
   "outputs": [
    {
     "name": "stdout",
     "output_type": "stream",
     "text": [
      "        marginal_cost  price\n",
      "Firm A             15   50.0\n",
      "Firm B            120  120.0\n"
     ]
    }
   ],
   "source": [
    "import pandas as pd\n",
    "\n",
    "def save_results(firm_data, filename):\n",
    "    \"\"\"\n",
    "    Save the firm data into a CSV file.\n",
    "    \n",
    "    Parameters:\n",
    "    firm_data (dict): A dictionary containing firm data.\n",
    "    filename (str): The name of the CSV file to save the data.\n",
    "    \"\"\"\n",
    "    df = pd.DataFrame.from_dict(firm_data, orient='index')\n",
    "    df.to_csv(filename)\n",
    "\n",
    "def load_results(filename):\n",
    "    \"\"\"\n",
    "    Load the firm data from a CSV file into a Pandas DataFrame and print it.\n",
    "    \n",
    "    Parameters:\n",
    "    filename (str): The name of the CSV file to load the data from.\n",
    "    \"\"\"\n",
    "    df = pd.read_csv(filename, index_col=0)\n",
    "    print(df)\n",
    "\n",
    "save_results(firms_data, \"market_results.csv\")\n",
    "\n",
    "load_results(\"market_results.csv\")"
   ]
  },
  {
   "cell_type": "markdown",
   "metadata": {},
   "source": [
    "## **Part 7: List and Dictionary Comprehensions**  \n",
    "\n",
    "**Instructions:**  \n",
    "1. Given a **list of firms' equilibrium prices**, use **list comprehension** to compute **profit** for each firm.\n",
    "   - Assume each firm produces **50 units**.\n",
    "   - Use the function `profit(price, quantity, marginal_cost)` from Part 2.\n",
    "2. Convert the **dictionary of firms** into a **list of tuples sorted by price** using dictionary comprehension.\n",
    "\n",
    "---"
   ]
  },
  {
   "cell_type": "code",
   "execution_count": 40,
   "metadata": {},
   "outputs": [],
   "source": [
    "quantity_produced = 50\n",
    "profits = [profit(price, quantity_produced, firms_data[firm][\"marginal_cost\"]) for firm, price in [(k, v[\"price\"]) for k, v in firms_data.items()]]\n",
    "\n",
    "# Convert the dictionary of firms into a list of tuples sorted by price using dictionary comprehension\n",
    "sorted_firms = sorted([(firm, data[\"price\"]) for firm, data in firms_data.items()], key=lambda x: x[1])\n"
   ]
  },
  {
   "cell_type": "code",
   "execution_count": 43,
   "metadata": {},
   "outputs": [
    {
     "name": "stdout",
     "output_type": "stream",
     "text": [
      "Profits for each firm: [1749.9999999992187, 0]\n",
      "Sorted firms by price: [('Firm A', 49.999999999984375), ('Firm B', 120)]\n"
     ]
    }
   ],
   "source": [
    "print(\"Profits for each firm:\", profits)\n",
    "print(\"Sorted firms by price:\", sorted_firms)"
   ]
  },
  {
   "cell_type": "markdown",
   "metadata": {},
   "source": [
    "## **Part 8: Simulating Market Variations with NumPy and Pandas**  \n",
    "\n",
    "**Instructions:**  \n",
    "1. Use **NumPy** to simulate:\n",
    "   - **Random marginal costs** for multiple firms (range between 5 and 15).\n",
    "   - **Random demand shocks** affecting market equilibrium.\n",
    "2. Store the generated firm data in a **Pandas DataFrame** with columns:\n",
    "   - `\"Firm\"`: Firm name\n",
    "   - `\"Marginal Cost\"`: Randomly generated cost\n",
    "   - `\"Market Demand\"`: Adjusted for demand shocks\n",
    "3. Compute and print **summary statistics** (mean, standard deviation) of marginal costs.\n",
    "4. Sort the firms by **marginal cost** and print the **top 3 most competitive firms**.\n",
    "\n",
    "---"
   ]
  },
  {
   "cell_type": "code",
   "execution_count": 47,
   "metadata": {},
   "outputs": [],
   "source": [
    "import numpy as np\n",
    "import pandas as pd\n",
    "\n",
    "num_firms = 10\n",
    "np.random.seed(42) \n",
    "\n",
    "firm_names = [f\"Firm {i+1}\" for i in range(num_firms)]\n",
    "marginal_costs = np.random.uniform(5, 15, num_firms)  \n",
    "demand_shocks = np.random.uniform(-10, 10, num_firms)  \n",
    "\n",
    "market_demand = 100 + demand_shocks\n",
    "\n",
    "df = pd.DataFrame({\n",
    "    \"Firm\": firm_names,\n",
    "    \"Marginal Cost\": marginal_costs,\n",
    "    \"Market Demand\": market_demand\n",
    "})\n"
   ]
  },
  {
   "cell_type": "code",
   "execution_count": 49,
   "metadata": {},
   "outputs": [
    {
     "name": "stdout",
     "output_type": "stream",
     "text": [
      "\n",
      "Firm Data:\n",
      "       Firm  Marginal Cost  Market Demand\n",
      "0   Firm 1       8.745401      90.411690\n",
      "1   Firm 2      14.507143     109.398197\n",
      "2   Firm 3      12.319939     106.648853\n",
      "3   Firm 4      10.986585      94.246782\n",
      "4   Firm 5       6.560186      93.636499\n",
      "5   Firm 6       6.559945      93.668090\n",
      "6   Firm 7       5.580836      96.084845\n",
      "7   Firm 8      13.661761     100.495129\n",
      "8   Firm 9      11.011150      98.638900\n",
      "9  Firm 10      12.080726      95.824583\n",
      "\n",
      "Summary Statistics:\n",
      "Mean Marginal Cost: 10.20\n",
      "Standard Deviation of Marginal Cost: 3.16\n",
      "\n",
      "Top 3 Most Competitive Firms (Lowest Marginal Cost):\n",
      "      Firm  Marginal Cost  Market Demand\n",
      "6  Firm 7       5.580836      96.084845\n",
      "5  Firm 6       6.559945      93.668090\n",
      "4  Firm 5       6.560186      93.636499\n"
     ]
    }
   ],
   "source": [
    "mean_cost = df[\"Marginal Cost\"].mean()\n",
    "std_cost = df[\"Marginal Cost\"].std()\n",
    "\n",
    "sorted_firms = df.sort_values(by=\"Marginal Cost\")\n",
    "top_3_firms = sorted_firms.head(3)  \n",
    "\n",
    "print(\"\\nFirm Data:\\n\", df)\n",
    "print(\"\\nSummary Statistics:\")\n",
    "print(f\"Mean Marginal Cost: {mean_cost:.2f}\")\n",
    "print(f\"Standard Deviation of Marginal Cost: {std_cost:.2f}\")\n",
    "\n",
    "print(\"\\nTop 3 Most Competitive Firms (Lowest Marginal Cost):\\n\", top_3_firms)"
   ]
  },
  {
   "cell_type": "code",
   "execution_count": null,
   "metadata": {},
   "outputs": [],
   "source": []
  }
 ],
 "metadata": {
  "kernelspec": {
   "display_name": "Python [conda env:base] *",
   "language": "python",
   "name": "conda-base-py"
  },
  "language_info": {
   "codemirror_mode": {
    "name": "ipython",
    "version": 3
   },
   "file_extension": ".py",
   "mimetype": "text/x-python",
   "name": "python",
   "nbconvert_exporter": "python",
   "pygments_lexer": "ipython3",
   "version": "3.12.7"
  }
 },
 "nbformat": 4,
 "nbformat_minor": 4
}
